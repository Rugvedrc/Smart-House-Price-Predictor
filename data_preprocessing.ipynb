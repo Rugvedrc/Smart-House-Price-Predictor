{
 "cells": [
  {
   "cell_type": "code",
   "execution_count": null,
   "id": "466800be",
   "metadata": {},
   "outputs": [],
   "source": [
    "%pip install pandas\n",
    "%pip install numpy\n",
    "%pip install scikit-learn\n",
    "%pip install matplotlib\n",
    "%pip install xgboost\n",
    "%pip install seaborn\n",
    "%pip install joblib\n",
    "%pip install shap\n"
   ]
  },
  {
   "cell_type": "code",
   "execution_count": null,
   "id": "417fb2d3",
   "metadata": {},
   "outputs": [],
   "source": [
    "from sklearn.linear_model import LinearRegression, Ridge, Lasso\n",
    "from sklearn.ensemble import RandomForestRegressor\n",
    "from xgboost import XGBRegressor\n",
    "\n",
    "from sklearn.metrics import mean_absolute_error, mean_squared_error, r2_score\n",
    "import matplotlib.pyplot as plt\n",
    "import seaborn as sns\n",
    "import numpy as np\n"
   ]
  },
  {
   "cell_type": "code",
   "execution_count": null,
   "id": "7339dbc9",
   "metadata": {},
   "outputs": [],
   "source": [
    "import pandas as pd\n",
    "\n",
    "# Load your CSV\n",
    "df = pd.read_csv(\"House Price India.csv\")  # Replace with actual path\n",
    "pd.set_option(\"display.max_columns\", None)\n",
    "\n",
    "# Show top 5 rows\n",
    "df.head()\n"
   ]
  },
  {
   "cell_type": "code",
   "execution_count": null,
   "id": "4aa70c8d",
   "metadata": {},
   "outputs": [],
   "source": [
    "# Data structure and types\n",
    "df.info()\n",
    "\n",
    "# Descriptive stats\n",
    "df.describe().T\n",
    "\n",
    "# Check for missing values\n",
    "df.isnull().sum()\n"
   ]
  },
  {
   "cell_type": "code",
   "execution_count": null,
   "id": "941250c6",
   "metadata": {},
   "outputs": [],
   "source": [
    "df.drop(columns=[\"id\", \"Date\", \"Postal Code\"], inplace=True)  # can drop 'Date' if not using time-based analysis\n"
   ]
  },
  {
   "cell_type": "code",
   "execution_count": null,
   "id": "bdebb4c1",
   "metadata": {},
   "outputs": [],
   "source": [
    "# Unique values in object columns (if any)\n",
    "for col in df.columns:\n",
    "    if df[col].dtype == 'object':\n",
    "        print(col, df[col].unique())\n"
   ]
  },
  {
   "cell_type": "code",
   "execution_count": null,
   "id": "658a3c43",
   "metadata": {},
   "outputs": [],
   "source": [
    "import numpy as np\n",
    "\n",
    "# Create house age\n",
    "df['house_age'] = 2025 - df['Built Year']\n",
    "\n",
    "# Renovated or not\n",
    "df['was_renovated'] = np.where(df['Renovation Year'] > 0, 1, 0)\n",
    "\n",
    "# Total area (living + basement)\n",
    "df['total_area'] = df['living area'] + df['Area of the basement']\n",
    "\n",
    "# Price per sqft (just for EDA insight, don't include in X)\n",
    "df['price_per_sqft'] = df['Price'] / df['living area']\n",
    "\n",
    "df.drop(columns=['Built Year', 'Renovation Year', 'living area', 'Area of the basement'], inplace=True)\n",
    "\n",
    "\n",
    "df.head()\n"
   ]
  },
  {
   "cell_type": "code",
   "execution_count": null,
   "id": "f7cce11b",
   "metadata": {},
   "outputs": [],
   "source": [
    "# Define function to remove outliers using IQR\n",
    "def remove_outliers_iqr(df, column):\n",
    "    Q1 = df[column].quantile(0.25)\n",
    "    Q3 = df[column].quantile(0.75)\n",
    "    IQR = Q3 - Q1\n",
    "    lower = Q1 - 1.5 * IQR\n",
    "    upper = Q3 + 1.5 * IQR\n",
    "    return df[(df[column] >= lower) & (df[column] <= upper)]\n",
    "\n",
    "# Columns to clean\n",
    "cols_to_check = ['Price', 'total_area', 'number of bedrooms', 'lot area']\n",
    "\n",
    "# Apply outlier removal\n",
    "for col in cols_to_check:\n",
    "    df = remove_outliers_iqr(df, col)\n",
    "\n",
    "# Check new shape\n",
    "print(\"Remaining rows after outlier removal:\", df.shape[0])\n"
   ]
  },
  {
   "cell_type": "code",
   "execution_count": null,
   "id": "c1c7984b",
   "metadata": {},
   "outputs": [],
   "source": [
    "from sklearn.model_selection import train_test_split\n",
    "from sklearn.preprocessing import StandardScaler\n",
    "\n",
    "# 1️⃣ Separate features and target\n",
    "X = df.drop(columns=['Price', 'price_per_sqft'])  # Drop target and EDA-only feature\n",
    "y = df['Price']\n",
    "\n",
    "# 2️⃣ Train-test split (80-20)\n",
    "X_train, X_test, y_train, y_test = train_test_split(\n",
    "    X, y, test_size=0.2, random_state=42\n",
    ")\n",
    "\n",
    "# 3️⃣ Feature scaling\n",
    "scaler = StandardScaler()\n",
    "X_train_scaled = scaler.fit_transform(X_train)\n",
    "X_test_scaled = scaler.transform(X_test)\n"
   ]
  },
  {
   "cell_type": "code",
   "execution_count": null,
   "id": "196e24cc",
   "metadata": {},
   "outputs": [],
   "source": [
    "def evaluate_model(model, name):\n",
    "    model.fit(X_train_scaled, y_train)\n",
    "    preds = model.predict(X_test_scaled)\n",
    "    \n",
    "    r2 = r2_score(y_test, preds)\n",
    "    rmse = np.sqrt(mean_squared_error(y_test, preds))\n",
    "    mae = mean_absolute_error(y_test, preds)\n",
    "    \n",
    "    return {\n",
    "        \"Model\": name,\n",
    "        \"R2 Score\": round(r2, 4),\n",
    "        \"RMSE\": round(rmse, 2),\n",
    "        \"MAE\": round(mae, 2)\n",
    "    }\n"
   ]
  },
  {
   "cell_type": "code",
   "execution_count": null,
   "id": "bb1eada4",
   "metadata": {},
   "outputs": [],
   "source": [
    "models = [\n",
    "    (LinearRegression(), \"Linear Regression\"),\n",
    "    (Ridge(), \"Ridge Regression\"),\n",
    "    (Lasso(), \"Lasso Regression\"),\n",
    "    (RandomForestRegressor(n_estimators=100, random_state=42), \"Random Forest\"),\n",
    "    (XGBRegressor(n_estimators=100, random_state=42, verbosity=0), \"XGBoost\")\n",
    "]\n",
    "\n",
    "results = []\n",
    "for model, name in models:\n",
    "    results.append(evaluate_model(model, name))\n",
    "\n",
    "# Convert to DataFrame\n",
    "results_df = pd.DataFrame(results)\n",
    "results_df.sort_values(\"R2 Score\", ascending=False, inplace=True)\n",
    "\n",
    "# Show table\n",
    "results_df\n",
    "results_df.to_csv(\"model_metrics.csv\", index=False)\n"
   ]
  },
  {
   "cell_type": "code",
   "execution_count": null,
   "id": "f53fb4bd",
   "metadata": {},
   "outputs": [],
   "source": [
    "import os\n",
    "\n",
    "# Create static directory for web app images\n",
    "# This folder will hold the plots for the metrics page.\n",
    "os.makedirs(\"static/images\", exist_ok=True)"
   ]
  },
  {
   "cell_type": "code",
   "execution_count": null,
   "id": "4628baee",
   "metadata": {},
   "outputs": [],
   "source": [
    "# This cell is already in your notebook, just add the savefig line.\n",
    "plt.figure(figsize=(10,6))\n",
    "sns.barplot(x='R2 Score', y='Model', data=results_df, hue='Model', palette='viridis', legend=False)\n",
    "plt.title(\"Model Comparison – R² Score\")\n",
    "plt.xlabel(\"R² Score (Higher is Better)\")\n",
    "plt.grid(True)\n",
    "\n",
    "# Add this line to save the figure\n",
    "plt.savefig(\"static/images/r2_score_comparison.png\", bbox_inches='tight')\n",
    "\n",
    "plt.show()"
   ]
  },
  {
   "cell_type": "code",
   "execution_count": null,
   "id": "3a095216",
   "metadata": {},
   "outputs": [],
   "source": [
    "# This cell is also in your notebook, just add the savefig line.\n",
    "fig, axes = plt.subplots(1, 2, figsize=(14, 5))\n",
    "\n",
    "sns.barplot(x='RMSE', y='Model', hue='Model', data=results_df, ax=axes[0], palette='magma', legend=False)\n",
    "axes[0].set_title(\"Root Mean Squared Error\")\n",
    "axes[0].grid(True)\n",
    "\n",
    "sns.barplot(x='MAE', y='Model', hue='Model', data=results_df, ax=axes[1], palette='coolwarm', legend=False)\n",
    "axes[1].set_title(\"Mean Absolute Error\")\n",
    "axes[1].grid(True)\n",
    "\n",
    "plt.tight_layout()\n",
    "\n",
    "# Add this line to save the figure\n",
    "plt.savefig(\"static/images/error_metrics_comparison.png\", bbox_inches='tight')\n",
    "\n",
    "plt.show()"
   ]
  },
  {
   "cell_type": "code",
   "execution_count": null,
   "id": "7a62695f",
   "metadata": {},
   "outputs": [],
   "source": [
    "import os\n",
    "import joblib\n",
    "# Create folder if it doesn't exist\n",
    "os.makedirs(\"models\", exist_ok=True)\n",
    "\n",
    "# Now save the model\n",
    "joblib.dump(models[4][0], \"models/best_model.pkl\")\n",
    "joblib.dump(scaler, \"models/scaler.pkl\")\n"
   ]
  },
  {
   "cell_type": "code",
   "execution_count": null,
   "id": "c4ae04e9",
   "metadata": {},
   "outputs": [],
   "source": [
    "from predictor import predict_with_explain\n",
    "\n",
    "# Example input (same as earlier)\n",
    "sample_input = {\n",
    "    'number of bedrooms': 4.0,\n",
    "    'number of bathrooms': 2.5,\n",
    "    'lot area': 5000.0,\n",
    "    'number of floors': 1.5,\n",
    "    'waterfront present': 0,\n",
    "    'number of views': 2,\n",
    "    'condition of the house': 4,\n",
    "    'grade of the house': 8,\n",
    "    'Area of the house(excluding basement)': 2000.0,\n",
    "    'Lattitude': 52.9,\n",
    "    'Longitude': -114.5,\n",
    "    'living_area_renov': 1800.0,\n",
    "    'lot_area_renov': 4900.0,\n",
    "    'Number of schools nearby': 2,\n",
    "    'Distance from the airport': 45.0,\n",
    "    'house_age': 25,\n",
    "    'was_renovated': 1,\n",
    "    'total_area': 2200.0\n",
    "}\n",
    "\n",
    "# Predict and get explanations\n",
    "predicted_price, explanation, shap_html = predict_with_explain(sample_input)\n",
    "\n",
    "print(f\"Predicted Price: ₹{predicted_price}\")\n",
    "print(\"\\nTop Contributing Factors:\")\n",
    "for factor in explanation:\n",
    "    print(f\"- {factor['Feature']}: {factor['Impact']:.2f}\")\n",
    "\n",
    "# Note: The SHAP plot HTML is also generated in 'shap_html' but is best viewed in the browser."
   ]
  }
 ],
 "metadata": {
  "kernelspec": {
   "display_name": ".venv",
   "language": "python",
   "name": "python3"
  },
  "language_info": {
   "codemirror_mode": {
    "name": "ipython",
    "version": 3
   },
   "file_extension": ".py",
   "mimetype": "text/x-python",
   "name": "python",
   "nbconvert_exporter": "python",
   "pygments_lexer": "ipython3",
   "version": "3.13.3"
  }
 },
 "nbformat": 4,
 "nbformat_minor": 5
}
